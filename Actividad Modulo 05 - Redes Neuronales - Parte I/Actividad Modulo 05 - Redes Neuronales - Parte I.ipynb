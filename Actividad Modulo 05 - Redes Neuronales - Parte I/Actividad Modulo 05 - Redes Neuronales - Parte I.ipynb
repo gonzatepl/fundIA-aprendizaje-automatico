{
 "cells": [
  {
   "cell_type": "markdown",
   "id": "0a6b98d7",
   "metadata": {},
   "source": [
    "## Redes Neuronales - Parte I\n",
    "\n",
    "En esta actividad vamos a aprender a desarrollar nuestra propia red neuronal para reconocimiento de imagenes.\n",
    "\n",
    "Para ello, vamos a trabajar con un dataset (digits.csv) que contiene imagenes en escala de grises de 28x28 pixeles (un total de 784 pixeles). Cada imagen representa un digito (desde el 0 al 9) escrito a mano. Cada pixel tiene un valor asociado entre 0 y 255 que indica la luminosidad u oscuridad de dicho pixel (valores mas grandes indican mayor oscuridad).\n",
    "\n",
    "El dataset tiene 785 columnas, en donde la primera columna es el label del dataset y las columnas restantes son los features que indican los valores de cada pixel de la imagen.\n",
    "\n",
    "La idea es utilizar este dataset para reconocer digitos que fueron escritos manualmente utilizando una red neuronal simple. En este caso, vamos a reconocer unicamente aquellas imagenes que representen el número 2. Es decir, la idea es hacer una clasificación binaria en donde, dada una imagen de un digito escrito manualmente, se determine si corresponde con el numero 2 o no.\n",
    "\n",
    "En primer lugar, carguemos en memoria (en un pandas DataFrame) el dataset, analicemos los labels y observemos algunas imagenes.\n",
    "\n",
    "\n",
    "#### Ejercicio 1\n",
    "a) Escribir en Python un programa para dividir el dataset del archivo digits.csv almacenando los features en una variable llamada **X**  y los labels en una variable llamada **y**."
   ]
  },
  {
   "cell_type": "code",
   "execution_count": 1,
   "id": "c828b4c1",
   "metadata": {},
   "outputs": [],
   "source": [
    "import numpy as np\n",
    "import pandas as pd\n",
    "import matplotlib.pyplot as plt\n",
    "\n",
    "digits = pd.read_csv('digits.csv')\n",
    "digits.head()\n",
    "\n",
    "# Almacenar features en una variable llamada X y labels en una variable llamada y.\n",
    "# Selecciona todas las filas (:) y todas las columnas a partir de la segunda columna en adelante (1:).\n",
    "X = digits.iloc[:,1:]\n",
    "\n",
    "# Selecciona todas las filas (:) y solo la primera columna (0).\n",
    "y = digits.iloc[:,0]"
   ]
  },
  {
   "cell_type": "markdown",
   "id": "fb5cf506",
   "metadata": {},
   "source": [
    "b) Observar la cantidad de ejemplos por cada label, analizando la variable **y**."
   ]
  },
  {
   "cell_type": "code",
   "execution_count": 2,
   "id": "fde0f631",
   "metadata": {},
   "outputs": [
    {
     "data": {
      "text/plain": [
       "label\n",
       "0    4132\n",
       "1    4684\n",
       "2    4177\n",
       "3    4351\n",
       "4    4072\n",
       "5    3795\n",
       "6    4137\n",
       "7    4401\n",
       "8    4063\n",
       "9    4188\n",
       "Name: count, dtype: int64"
      ]
     },
     "execution_count": 2,
     "metadata": {},
     "output_type": "execute_result"
    }
   ],
   "source": [
    "# Imprimir la cantidad de ejemplos por cada clase (ordenados)\n",
    "y.value_counts().sort_index()"
   ]
  },
  {
   "cell_type": "markdown",
   "id": "fa83a0c0",
   "metadata": {},
   "source": [
    "## Visualización de imagenes del dataset\n",
    "Las imagenes (28px x 28px) fueron cargadas en memoria en un pandas Dataframe que representa un vector de 1 unica dimension (1D) con 784 valores, cada una representada por un pandas Series. Para imprimir y visualizar, como asi tambien para crear una red neuronal que las lea debemos reformatear esta estructura y convertirla en una matriz (array) de 3 dimensiones (3D) de 28x28x1. Para ello utilizamos el metodo .reshape():\n",
    "\n",
    "```\n",
    "X = X.values.reshape(-1,28,28,1)\n",
    "```\n",
    "\n",
    "**Aclaración:** el primer parametro de reshape, que se encuentra en -1, toma por defecto la dimension del array (formado por X.values que contiene todos los valores del DataFrame en un array de 2 dimensiones). Ver [documentación](https://numpy.org/doc/stable/reference/generated/numpy.reshape.html#numpy-reshape) para más info. \n",
    "\n",
    "Tensorflow y Keras requieren una dimensión extra al final que se corresponde con los canales de colores. En este caso, las imagenes del dataset son en la escala de grises con los cual utilizaremos un unico canal (para imagenes RGB existen 3 canales)."
   ]
  },
  {
   "cell_type": "code",
   "execution_count": 3,
   "id": "391e9537",
   "metadata": {},
   "outputs": [],
   "source": [
    "X = X.values.reshape(-1,28,28,1)"
   ]
  },
  {
   "cell_type": "markdown",
   "id": "1d27965e",
   "metadata": {},
   "source": [
    "A continuación observemos dos imagenes distintas y sus labels."
   ]
  },
  {
   "cell_type": "code",
   "execution_count": 4,
   "id": "e336297e",
   "metadata": {},
   "outputs": [
    {
     "data": {
      "text/plain": [
       "'LABEL:'"
      ]
     },
     "metadata": {},
     "output_type": "display_data"
    },
    {
     "data": {
      "text/plain": [
       "8"
      ]
     },
     "metadata": {},
     "output_type": "display_data"
    },
    {
     "data": {
      "image/png": "[encoded data removed]",
      "text/plain": [
       "<Figure size 640x480 with 1 Axes>"
      ]
     },
     "metadata": {},
     "output_type": "display_data"
    }
   ],
   "source": [
    "g1= plt.imshow(X[10][:,:,0])\n",
    "display(\"LABEL:\", y[10])"
   ]
  },
  {
   "cell_type": "code",
   "execution_count": 5,
   "id": "a9db9860",
   "metadata": {},
   "outputs": [
    {
     "data": {
      "text/plain": [
       "'LABEL:'"
      ]
     },
     "metadata": {},
     "output_type": "display_data"
    },
    {
     "data": {
      "text/plain": [
       "2"
      ]
     },
     "metadata": {},
     "output_type": "display_data"
    },
    {
     "data": {
      "image/png": "[encoded data removed]",
      "text/plain": [
       "<Figure size 640x480 with 1 Axes>"
      ]
     },
     "metadata": {},
     "output_type": "display_data"
    }
   ],
   "source": [
    "plt.imshow(X[16][:,:,0])\n",
    "display(\"LABEL:\", y[16])"
   ]
  },
  {
   "cell_type": "markdown",
   "id": "7d9829f5",
   "metadata": {},
   "source": [
    "### Redefinición de los Labels\n",
    "Como lo que queremos hacer es un clasificador binario que unicamente detecte imagenes con el valor 2, tenemos que modificar los labels para tener unicamente dos valores y=1, cuando la imagen representa un 2 e y=0, cuando la imagen representa cualquier otro digito.\n",
    "\n",
    "Para ello hacemos uso del potencial de pandas, que nos permite modificar valores de columnas facilmente utilizando condiciones y filtros. Por ejemplo, si quisieramos cambiar el valor de todos los labels que se corresponden con el digito 9 por un valor igual a -1, podemos hacer:\n",
    "\n",
    "```\n",
    "y.loc[y==9] = -1\n",
    "```\n",
    "\n",
    "Esta linea de codigo buscaria en la variable **y** (que es una pandas Series) todas aquellas filas que contienen el valor 9 y los reemplazaria con un valor igual a -1.\n",
    "\n",
    "De esta misma forma, podremos modificar nuestro dataset para que contenga dos valores y=1, para todos los labels igual a 2 e y=0 para todos los labels distintos de 2.\n",
    "\n",
    "#### Ejercicio 2\n",
    "a) Modificar los valores de **y** para que solo contenga los labels y=1 e y=0.\n"
   ]
  },
  {
   "cell_type": "code",
   "execution_count": 6,
   "id": "e5fcc5b8",
   "metadata": {},
   "outputs": [],
   "source": [
    "# Modificar y tal que si la imágen que representa es un 2, su label sea 1,\n",
    "# y si la imágen que representa no es un 2, su label sea 0\n",
    "y.loc[y!=2] = 0\n",
    "y.loc[y==2] = 1"
   ]
  },
  {
   "cell_type": "markdown",
   "id": "b83657fd",
   "metadata": {},
   "source": [
    "b) Observar la cantidad de ejemplos por cada label, analizando la variable **y**."
   ]
  },
  {
   "cell_type": "code",
   "execution_count": 7,
   "id": "3a482315",
   "metadata": {},
   "outputs": [
    {
     "data": {
      "text/plain": [
       "label\n",
       "0    37823\n",
       "1     4177\n",
       "Name: count, dtype: int64"
      ]
     },
     "execution_count": 7,
     "metadata": {},
     "output_type": "execute_result"
    }
   ],
   "source": [
    "y.value_counts().sort_index()"
   ]
  },
  {
   "cell_type": "markdown",
   "id": "535aa7e0",
   "metadata": {},
   "source": [
    "Como vimos anteriormente, para los algoritmos de ML en general suele ser mejor normalizar los datos para que el proceso de aprendizaje sea más efectivo y eficiente.\n",
    "\n",
    "Para ello normalizamos dividiendo por 255 todos los valores de pixeles que se encuentran en la variable X"
   ]
  },
  {
   "cell_type": "code",
   "execution_count": 8,
   "id": "4374b6dc",
   "metadata": {},
   "outputs": [],
   "source": [
    "X = X / 255.0"
   ]
  },
  {
   "cell_type": "markdown",
   "id": "fb164b8c",
   "metadata": {},
   "source": [
    "En este punto tenemos unicamente dos labels: \n",
    "- **0**, para aquellas imagenes que no representan el digito 2\n",
    "- **1**, para las imagenes que representan el digito 2."
   ]
  },
  {
   "cell_type": "markdown",
   "id": "7fe5f54b",
   "metadata": {},
   "source": [
    "### Creación del modelo con Tensorflow y Keras\n",
    "\n",
    "A continuación vamos a definir el modelo del clasificador binario. Para ello, veamos como es posible crear redes neuronales utilizando el framework Tensorflow.\n",
    "\n",
    "Lo primero que tenemos que hacer es importar el modulo de tensorflow"
   ]
  },
  {
   "cell_type": "code",
   "execution_count": 9,
   "id": "90a42760",
   "metadata": {},
   "outputs": [
    {
     "data": {
      "text/plain": [
       "'2.10.0'"
      ]
     },
     "metadata": {},
     "output_type": "display_data"
    }
   ],
   "source": [
    "import tensorflow as tf\n",
    "\n",
    "# Imprimimos la version de tensorflow\n",
    "display(tf.__version__)"
   ]
  },
  {
   "cell_type": "markdown",
   "id": "5dc329dc",
   "metadata": {},
   "source": [
    "En particular vamos a utilizar Keras (tf.keras), que es la API de alto nivel de TensorFlow para construir y entrenar modelos de aprendizaje profundo. \n",
    "\n",
    "Keras provee de una serie de clases que nos permiten construir facilmente redes neuronales en una pocas lineas de codigo. Veamos algunas de ellas:\n",
    "\n",
    "[Sequential](https://keras.io/api/models/sequential/): Esta clase define una secuencia de layers en la red neuronal. Suele utilizarse como contenedor de toda la red y sus layers internas.\n",
    "\n",
    "[Flatten](https://keras.io/api/layers/reshaping_layers/flatten/): En general las imágenes estan representadas por una matriz de píxeles (en este ejemplo, de 28x28). La clase Flatten simplemente toma esa matriz y la convierte en una matriz unidimensional (1D).\n",
    "\n",
    "[Dense](https://keras.io/api/layers/core_layers/dense/): La clase Dense define la layer más simple de redes neuronales en donde todas las neuronas se conectan con todas las entradas y todas las salidas.\n",
    "\n",
    "Recordemos que cada layer de neuronas necesita una [función de activación](https://keras.io/api/layers/activations/) para decirles qué hacer. Hay muchas opciones, pero por ahora solo usaremos la funcion sigmoidea ('sigmoid').\n",
    " \n",
    "Teniendo este conocimiento basico de Keras, la construcción del modelo se define de la siguiente manera:\n",
    "\n",
    "\n",
    " \n",
    "```\n",
    "model = tf.keras.models.Sequential()\n",
    "model.add(layer_1)\n",
    "...\n",
    "model.add(layer_n)\n",
    "```\n",
    "\n",
    "\n",
    "\n",
    "En general, si se trata de imagenes, la primera layer del modelo es de la clase Flatten. Las siguientes layers suelen ser del tipo Dense, con diferentes cantidades de neuronas. \n",
    "\n",
    "Recordemos que, como en nuestro caso estamos realizando un clasificador binario, necesitamos que la ultima layer tenga una única neurona.\n",
    "\n",
    "Ahora que sabemos como construir una red neuronal simple con Keras, vamos a definir un modelo para nuestro problema.\n",
    "\n",
    "\n",
    "#### Ejercicio 3\n",
    "a) Crear un modelo de red neuronal con Keras, usando la clase Sequential. Luego, agregarle 3 layers distintas: una layer para convertir las imagenes en una matriz 1D, una layer densa con 128 neuronas y una layer de salida tambien densa con una única neurona.\n",
    " \n",
    " "
   ]
  },
  {
   "cell_type": "code",
   "execution_count": 10,
   "id": "218da835",
   "metadata": {},
   "outputs": [],
   "source": [
    "# Crear un modelo de red neuronal con Keras, usando la clase Sequential.\n",
    "model = tf.keras.models.Sequential()\n",
    "\n",
    "# Agregamos 3 layers distintas: \n",
    "# Una para convertir las imágenes en una matriz 1D\n",
    "model.add(tf.keras.layers.Flatten())\n",
    "# Una layer densa con 128 neuronas \n",
    "model.add(tf.keras.layers.Dense(128, activation='sigmoid'))\n",
    "# Una layer de salida densa con una única neurona.\n",
    "model.add(tf.keras.layers.Dense(1, activation='sigmoid'))\n"
   ]
  },
  {
   "cell_type": "markdown",
   "id": "cafb62be",
   "metadata": {},
   "source": [
    "b) Compile el modelo utilizando el metodo [.compile()](https://www.tensorflow.org/api_docs/python/tf/keras/Model#compile). La función de costo que vamos a utilizar es 'binary_crossentropy' y como metrica solo 'accuracy'."
   ]
  },
  {
   "cell_type": "code",
   "execution_count": 11,
   "id": "7a82f5e6",
   "metadata": {},
   "outputs": [],
   "source": [
    "model.compile(loss='binary_crossentropy', metrics=['accuracy'])\n"
   ]
  },
  {
   "cell_type": "markdown",
   "id": "97336402",
   "metadata": {},
   "source": [
    "**c)** Entrene el modelo utilizando el método [.fit](https://www.tensorflow.org/api_docs/python/tf/keras/Model#fit), con los valores de **X** y de **y**. Setee la cantidad de epochs a 5. \n",
    "\n",
    "**Aclaración:** La cantidad de epochs se refiere al paso completo de datos de los entrenamiento a través del modelo. En este ejemplo con 5 pasadas es suficiente."
   ]
  },
  {
   "cell_type": "code",
   "execution_count": 12,
   "id": "a42fafb0",
   "metadata": {},
   "outputs": [
    {
     "name": "stdout",
     "output_type": "stream",
     "text": [
      "Epoch 1/5\n",
      "1313/1313 [==============================] - 4s 2ms/step - loss: 0.0837 - accuracy: 0.9748\n",
      "Epoch 2/5\n",
      "1313/1313 [==============================] - 3s 2ms/step - loss: 0.0629 - accuracy: 0.9820\n",
      "Epoch 3/5\n",
      "1313/1313 [==============================] - 3s 2ms/step - loss: 0.0482 - accuracy: 0.9863\n",
      "Epoch 4/5\n",
      "1313/1313 [==============================] - 2s 1ms/step - loss: 0.0389 - accuracy: 0.9889\n",
      "Epoch 5/5\n",
      "1313/1313 [==============================] - 2s 1ms/step - loss: 0.0338 - accuracy: 0.9908\n"
     ]
    },
    {
     "data": {
      "text/plain": [
       "<keras.callbacks.History at 0x2437fcb4fa0>"
      ]
     },
     "execution_count": 12,
     "metadata": {},
     "output_type": "execute_result"
    }
   ],
   "source": [
    "model.fit(x=X, y=y, epochs=5)"
   ]
  },
  {
   "cell_type": "markdown",
   "id": "d52d467c",
   "metadata": {},
   "source": [
    "**d)** Generar predicciones para el dataset completo (**X**), utilizando el metodo [.predict()](https://www.tensorflow.org/api_docs/python/tf/keras/Model#predict).\n",
    "\n",
    "**Aclaración:** Recordemos que  el metodo .predict() devuelve la probabilidad de que pertenezca a la clase positiva. En este ejemplo, sera la probabilidad de que la imagen sea efectivamente un 2."
   ]
  },
  {
   "cell_type": "code",
   "execution_count": 13,
   "id": "7caa0816",
   "metadata": {},
   "outputs": [
    {
     "name": "stdout",
     "output_type": "stream",
     "text": [
      "1313/1313 [==============================] - 2s 1ms/step\n"
     ]
    }
   ],
   "source": [
    "predictions = model.predict(X)"
   ]
  },
  {
   "cell_type": "markdown",
   "id": "617c44f9",
   "metadata": {},
   "source": [
    "**e)** Imprimir las predicciones generadas por el modelo para las imagenes visualizadas anteriormente (indices 10 y 16). Recordemos que la imagen del indice 10 corresponde al digito 8 y la imagen del indice 16 corresponde al digito 2. En este caso, imprimir el label real y el label estimado por el modelo."
   ]
  },
  {
   "cell_type": "code",
   "execution_count": 14,
   "id": "55ad91bf",
   "metadata": {},
   "outputs": [
    {
     "name": "stdout",
     "output_type": "stream",
     "text": [
      "Para la imágen del índice 10 tenemos la predicción [1.1642242e-05]. Su valor real es 0.\n",
      "Para la imágen del índice 16 tenemos la predicción [0.9664814]. Su valor real es 1.\n"
     ]
    }
   ],
   "source": [
    "print(f\"Para la imágen del índice 10 tenemos la predicción {predictions[10]}. Su valor real es {y[10]}.\")\n",
    "print(f\"Para la imágen del índice 16 tenemos la predicción {predictions[16]}. Su valor real es {y[16]}.\")"
   ]
  },
  {
   "cell_type": "markdown",
   "id": "0c53c72f",
   "metadata": {},
   "source": [
    "Finalmente realizamos una evaluación del modelo en el dataset de entrenamiento. \n",
    "\n",
    "Tengamos en cuenta que en este ejemplo no dividimos el dataset en dataset de entrenamiento y dataset de testeo porque el objetivo era aprender a construir redes neuronales simples. Es por ello que el accuracy que arroje el metodo [.evaluate()](https://www.tensorflow.org/api_docs/python/tf/keras/Model#evaluate) nos va a decir que tan preciso es el modelo en predecir los labels de los mismos ejemplos con los que fue entrenado. **Para evaluar con mayor precision el rendimiento del modelo deberiamos evaluarlo con un dataset desconocido por el.**\n",
    "\n",
    "\n",
    "Observar que el metodo .evaluate devuelve un vector con dos valores: el error y el accuracy."
   ]
  },
  {
   "cell_type": "code",
   "execution_count": 15,
   "id": "7ad944c3",
   "metadata": {},
   "outputs": [
    {
     "name": "stdout",
     "output_type": "stream",
     "text": [
      "1313/1313 [==============================] - 2s 1ms/step - loss: 0.0304 - accuracy: 0.9915\n"
     ]
    },
    {
     "data": {
      "text/plain": [
       "[0.03037452884018421, 0.9915476441383362]"
      ]
     },
     "execution_count": 15,
     "metadata": {},
     "output_type": "execute_result"
    }
   ],
   "source": [
    "model.evaluate(X, y)"
   ]
  }
 ],
 "metadata": {
  "kernelspec": {
   "display_name": "Python (tf_env)",
   "language": "python",
   "name": "tf_env"
  },
  "language_info": {
   "codemirror_mode": {
    "name": "ipython",
    "version": 3
   },
   "file_extension": ".py",
   "mimetype": "text/x-python",
   "name": "python",
   "nbconvert_exporter": "python",
   "pygments_lexer": "ipython3",
   "version": "3.8.18"
  }
 },
 "nbformat": 4,
 "nbformat_minor": 5
}
