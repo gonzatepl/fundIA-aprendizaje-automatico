{
 "cells": [
  {
   "cell_type": "markdown",
   "id": "0a6b98d7",
   "metadata": {},
   "source": [
    "## Redes Neuronales - Parte II\n",
    "\n",
    "En esta actividad vamos a aprender a desarrollar una red neuronal profunda para reconocimiento de imagenes. \n",
    "\n",
    "Además vamos a estudiar algunos detalles de implementación que nos ayudarán a organizar nuestro codigo y hacerlo más eficiente. \n",
    "\n",
    "Por otro lado, vamos a aprender a utilizar Callbacks para detener el proceso de entrenamiento antes de tiempo si llegamos a un objetivo deseado.\n",
    "\n",
    "Para ello, vamos a trabajar con un dataset provisto por keras: Fashion MNIST. El dataset Fashion MNIST consta de 70.000 imágenes en escala de grises de 28x28 que pertenecen a una de 10 clases de prendas de vestir diferentes. \n",
    "El dataset se divide en 60.000 imagenes que se encuentran en el dataset de entrenamiento y 10.000 en el dataset de testeo.\n",
    "\n",
    "\n",
    "Cada imagen representa una prenda de vestir de una de las siguientes categorías: \n",
    "\n",
    "                                0. T-shirt/top\n",
    "                                1. Trouser\n",
    "                                2. Pullover\n",
    "                                3. Dress\n",
    "                                4. Coat\n",
    "                                5. Sandal\n",
    "                                6. Shirt\n",
    "                                7. Sneaker\n",
    "                                8. Bag\n",
    "                                9. Ankle boot \n",
    "\n",
    "Cada pixel tiene un valor asociado entre 0 y 255 que indica la luminosidad u oscuridad de dicho pixel (valores mas grandes indican mayor oscuridad).\n",
    "\n",
    "El dataset tiene 785 columnas, en donde la primera columna es el label del dataset y las columnas restantes son los features que indican los valores de cada pixel de la imagen.\n",
    "\n",
    "La idea es utilizar este dataset para reconocer prendas de vestir utilizando una red neuronal con varias layers y neuronas. Para ello, vamos a necesitar definir un modelo de clasificación multiclase.\n",
    "\n",
    "En primer lugar, carguemos en memoria el dataset, obteniendo el dataset de entrenamiento y el de testeo e imprimamos sus dimensiones.\n",
    "\n",
    "\n",
    "#### Ejercicio 1\n",
    "a) Escribir en Python un programa para obtener del framework Keras el dataset Fashion MNIST dividido en dataset entrenamiento (x_train, y_train) y dataset de testeo (x_test, y_test).\n",
    "\n",
    "**AYUDA:** el dataset fashion_mnist se encuentra dentro de la libreria keras.datasets. Keras provee una forma de obtener el dataset dividido en entrenamiento y testeo con el método [.load_data() ](https://www.tensorflow.org/api_docs/python/tf/keras/datasets/fashion_mnist/load_data#expandable-1)."
   ]
  },
  {
   "cell_type": "code",
   "execution_count": 1,
   "id": "4083004b",
   "metadata": {},
   "outputs": [],
   "source": [
    "from tensorflow.keras.datasets import fashion_mnist\n",
    "\n",
    "(x_train, y_train), (x_test, y_test) = fashion_mnist.load_data()"
   ]
  },
  {
   "cell_type": "markdown",
   "id": "b9c8ec82",
   "metadata": {},
   "source": [
    "b) Imprimir las dimensiones de todos los datasets (x_train, y_train, x_test, y test)"
   ]
  },
  {
   "cell_type": "code",
   "execution_count": 2,
   "id": "c7516835",
   "metadata": {},
   "outputs": [
    {
     "name": "stdout",
     "output_type": "stream",
     "text": [
      "Dimensiones de x_train: (60000, 28, 28)\n",
      "Dimensiones de y_train: (60000,)\n",
      "Dimensiones de x_test: (10000, 28, 28)\n",
      "Dimensiones de y_test: (10000,)\n"
     ]
    }
   ],
   "source": [
    "print(f\"Dimensiones de x_train: {x_train.shape}\")\n",
    "print(f\"Dimensiones de y_train: {y_train.shape}\")\n",
    "print(f\"Dimensiones de x_test: {x_test.shape}\")\n",
    "print(f\"Dimensiones de y_test: {y_test.shape}\")"
   ]
  },
  {
   "cell_type": "markdown",
   "id": "9a7d6ad7",
   "metadata": {},
   "source": [
    "#### Ejercicio 2\n",
    "a) Imprimir dos imagenes cualquiera utilizando matplotlib.\n",
    "\n",
    "**AYUDA:** Recordemos que para imprimir una imagen con matplotlib se puede utilizar el metodo [.imshow(image)](https://matplotlib.org/stable/api/_as_gen/matplotlib.pyplot.imshow.html#matplotlib-pyplot-imshow), siendo image el vector que contiene los 784 pixeles de la imagen."
   ]
  },
  {
   "cell_type": "code",
   "execution_count": 3,
   "id": "56a5d318",
   "metadata": {},
   "outputs": [
    {
     "data": {
      "image/png": "[encoded data removed]",
      "text/plain": [
       "<Figure size 640x480 with 1 Axes>"
      ]
     },
     "metadata": {},
     "output_type": "display_data"
    },
    {
     "data": {
      "image/png": "[encoded data removed]",
      "text/plain": [
       "<Figure size 640x480 with 1 Axes>"
      ]
     },
     "metadata": {},
     "output_type": "display_data"
    }
   ],
   "source": [
    "import matplotlib.pyplot as plt\n",
    "%matplotlib inline\n",
    "\n",
    "plt.imshow(x_train[12])\n",
    "plt.show()\n",
    "\n",
    "plt.imshow(x_train[24])\n",
    "plt.show()"
   ]
  },
  {
   "cell_type": "markdown",
   "id": "c6f20b58",
   "metadata": {},
   "source": [
    "#### Ejercicio 3\n",
    "a) Normalizar los valores de los features en los datasets de entrenamiento y testeo (x_train y x_test) dividiendo los valores de los pixeles por 255."
   ]
  },
  {
   "cell_type": "code",
   "execution_count": 4,
   "id": "c828b4c1",
   "metadata": {},
   "outputs": [],
   "source": [
    "x_train = x_train / 255.0\n",
    "\n",
    "x_test = x_test / 255.0"
   ]
  },
  {
   "cell_type": "markdown",
   "id": "a6993e0b",
   "metadata": {},
   "source": [
    "### Callbacks\n",
    "\n",
    "Los Callbacks de Keras son objetos que realizan acciones en diferentes etapas del proceso de entrenamiento (por ejemplo, al comienzo o al final de un epoch). En general se utilizan para escribir logs (registros) para monitorear el proceso, almacenar el modelo en disco periodicamente, detener el proceso de entrenamiento antes de lo previsto, entre otros.\n",
    "\n",
    "El codigo para crear un nuevo Callback en Tensorflow/Keras que cancele el entrenamiento por haber obtenido un valor máximo de rendimiento es el siguiente:\n",
    "\n",
    "```\n",
    "class callbacks(tf.keras.callbacks.Callback):\n",
    "    def on_epoch_end(self, epoch, logs={}):\n",
    "        if logs.get(\"accuracy\") > MAX_ACC:\n",
    "            self.model.stop_training = True\n",
    "```\n",
    "\n",
    "Los callbacks creados son pasados en el método .fit().\n",
    "\n",
    "#### Ejercicio 4\n",
    "a) Crear una clase callback que detenga el proceso de entrenamiento cuando se llega al final de un epoch si es que se logra un .95 de accuracy e imprima el siguiente mensaje de aviso: \"Se alcanzó el máximo de precisión y, por lo tanto, se canceló el proceso de entrenamiento.\"\n"
   ]
  },
  {
   "cell_type": "code",
   "execution_count": 5,
   "id": "bf9cac2e",
   "metadata": {},
   "outputs": [],
   "source": [
    "import tensorflow as tf\n",
    "\n",
    "class callbacks(tf.keras.callbacks.Callback):\n",
    "    def on_epoch_end(self, epoch, logs={}):\n",
    "        if logs.get(\"accuracy\") > 0.95:\n",
    "            self.model.stop_training = True\n",
    "            print(\"Se alcanzó el máximo de precisión y, por lo tanto, se canceló el proceso de entrenamiento.\")"
   ]
  },
  {
   "cell_type": "markdown",
   "id": "fb5cf506",
   "metadata": {},
   "source": [
    "### Ordenando el codigo\n",
    "Ahora que tenemos los datasets de entrenamiento y testeo normalizados y observamos algunos ejemplos vamos a crear el modelo, compilarlo y entrenarlo. \n",
    "\n",
    "Para ello, vamos a crear un método que reuna todo el proceso completo:\n",
    "1. Obtener el dataset de entrenamiento y de testeo (resuelto en Ejercicio 1.a.)\n",
    "2. Normalizar los features de entrenamiento y testeo (resuelto en Ejercicio 3.)\n",
    "3. Crear el modelo en Keras\n",
    "4. Compilar el modelo (.compile(...))\n",
    "5. Ajustar o entrenar (.fit(...)) el modelo pasandole el callback creado y almacenando el historial del proceso de entrenamiento.\n",
    "6. Retornar el historial del proceso de entrenamiento y el modelo creado.\n",
    "\n",
    "Para la **creación del modelo** vamos a utilizar una red neuronal con 4 layers ocultas: la primera con 512 neuronas, la segunda con 256 neuronas, la tercera con 128 neuronas y la cuarta con 64 neuronas. Como el problema es un problema de clasificación multiclase debemos utilizar al final la función softmax. Vamos a implementar la versión de codigo mejorada que vimos en el apunte, para ello, vamos a crear el modelo con la ultima layer con la función de activación lineal (para luego, fuera del metodo que estamos creando, aplicarle la función softmax para obtener las probabilidades por cada clase). Recordemos que como estamos trabajando con imagenes, la primera layer que debe tener nuestra red neuronal es la Layer Flatten().\n",
    "\n",
    "Cuando realizamos la **compilación del modelo** vamos a usar de optimizador al algoritmo Adam (para ello, pasamos cmo parametro **optimizer='adam'**) y como metrica de evaluación vamos a usar accuracy (para ello, pasamos como parametro **metrics=['accuracy']**). Recordar que para clasificación multiclase debemos usar la función de costo **SparseCategoricalCrossentropy** con **from_logits=True** porque estamos implementando la versión mejorada del codigo, como vimos en el apunte.\n",
    "\n",
    "Cuando relizamos el **entrenamiento del modelo** con el método .fit()  debemos pasarle el objeto callback creado (**callbacks=[myCallback]**). Además, la cantidad de epochs la vamos a setear en 100.\n",
    "\n",
    "Tener en cuenta que el historial del proceso de entrenamiento es devuelto por el método .fit y se trata de un objeto History el cual en el atributo .history (History.history) se tiene un registro de los valores de error y de metricas obtenidas en los sucesivos epochs.\n",
    "\n",
    "#### Ejercicio 5\n",
    "a) Crear un método train_fashion_mnist() que se englobe los 6 pasos mencionados anteriormente. Notar que hay ciertos pasos que resolvimos en ejercicios anteriores que simplemente debemos copiar las lineas de código dentro del nuevo método."
   ]
  },
  {
   "cell_type": "code",
   "execution_count": 6,
   "id": "fde0f631",
   "metadata": {},
   "outputs": [],
   "source": [
    "import tensorflow as tf\n",
    "from tensorflow.keras.losses import SparseCategoricalCrossentropy\n",
    "from tensorflow.nn import softmax\n",
    "\n",
    "def train_fashion_mnist():\n",
    "\n",
    "    # Creamos un objeto de la clase callbacks creada anteriormente\n",
    "    myCallback = callbacks()\n",
    "\n",
    "    # 1. Obtener el dataset de entrenamiento y de testeo (resuelto en Ejercicio 1) a.)\n",
    "    (x_train, y_train), (x_test, y_test) = fashion_mnist.load_data()\n",
    "        \n",
    "    # 2. Normalizar los features de entrenamiento y testeo (resuelto en Ejercicio 3.)\n",
    "    x_train = x_train / 255.0\n",
    "    x_test = x_test / 255.0\n",
    "    \n",
    "    # 3. Crear el modelo en Keras\n",
    "    model = tf.keras.models.Sequential([\n",
    "                tf.keras.layers.Flatten(),\n",
    "                tf.keras.layers.Dense(units=512, activation='relu'),\n",
    "                tf.keras.layers.Dense(units=256, activation='relu'),\n",
    "                tf.keras.layers.Dense(units=128, activation='relu'),\n",
    "                tf.keras.layers.Dense(units=64, activation='relu'),\n",
    "                tf.keras.layers.Dense(units=10, activation='linear')\n",
    "            ])\n",
    " \n",
    "    # 4. Compilar el modelo (.compile(...))\n",
    "    model.compile(optimizer='adam',\n",
    "                loss=SparseCategoricalCrossentropy(from_logits=True),\n",
    "                metrics=['accuracy'])    \n",
    "     \n",
    "    # 5. Ajustar o entrenar (.fit(...)) el modelo pasandole el callback creado y almacenando el historial del proceso de entrenamiento.\n",
    "    history = model.fit(x=x_train, y=y_train, epochs=100, callbacks=[myCallback])\n",
    "    \n",
    "    \n",
    "    # 6.Retornar el historial del proceso de entrenamiento.\n",
    "    return history.history, model"
   ]
  },
  {
   "cell_type": "markdown",
   "id": "4ff64da4",
   "metadata": {},
   "source": [
    "Ahora que tenemos un método que es capaz de realizar todo el proceso completo lo unico que resta es realizar una llamada al mismo para obtener el objeto history y el model."
   ]
  },
  {
   "cell_type": "code",
   "execution_count": 7,
   "id": "77794dfd",
   "metadata": {},
   "outputs": [
    {
     "name": "stdout",
     "output_type": "stream",
     "text": [
      "Epoch 1/100\n",
      "1875/1875 [==============================] - 7s 3ms/step - loss: 0.4859 - accuracy: 0.8226\n",
      "Epoch 2/100\n",
      "1875/1875 [==============================] - 5s 2ms/step - loss: 0.3688 - accuracy: 0.8653\n",
      "Epoch 3/100\n",
      "1875/1875 [==============================] - 4s 2ms/step - loss: 0.3321 - accuracy: 0.8788\n",
      "Epoch 4/100\n",
      "1875/1875 [==============================] - 4s 2ms/step - loss: 0.3104 - accuracy: 0.8853\n",
      "Epoch 5/100\n",
      "1875/1875 [==============================] - 4s 2ms/step - loss: 0.2862 - accuracy: 0.8940\n",
      "Epoch 6/100\n",
      "1875/1875 [==============================] - 4s 2ms/step - loss: 0.2744 - accuracy: 0.8994\n",
      "Epoch 7/100\n",
      "1875/1875 [==============================] - 4s 2ms/step - loss: 0.2619 - accuracy: 0.9012\n",
      "Epoch 8/100\n",
      "1875/1875 [==============================] - 4s 2ms/step - loss: 0.2512 - accuracy: 0.9067\n",
      "Epoch 9/100\n",
      "1875/1875 [==============================] - 4s 2ms/step - loss: 0.2433 - accuracy: 0.9082\n",
      "Epoch 10/100\n",
      "1875/1875 [==============================] - 4s 2ms/step - loss: 0.2335 - accuracy: 0.9120\n",
      "Epoch 11/100\n",
      "1875/1875 [==============================] - 5s 3ms/step - loss: 0.2250 - accuracy: 0.9154\n",
      "Epoch 12/100\n",
      "1875/1875 [==============================] - 4s 2ms/step - loss: 0.2156 - accuracy: 0.9189\n",
      "Epoch 13/100\n",
      "1875/1875 [==============================] - 4s 2ms/step - loss: 0.2130 - accuracy: 0.9193\n",
      "Epoch 14/100\n",
      "1875/1875 [==============================] - 4s 2ms/step - loss: 0.2044 - accuracy: 0.9226\n",
      "Epoch 15/100\n",
      "1875/1875 [==============================] - 4s 2ms/step - loss: 0.1986 - accuracy: 0.9260\n",
      "Epoch 16/100\n",
      "1875/1875 [==============================] - 4s 2ms/step - loss: 0.1920 - accuracy: 0.9272\n",
      "Epoch 17/100\n",
      "1875/1875 [==============================] - 4s 2ms/step - loss: 0.1874 - accuracy: 0.9289\n",
      "Epoch 18/100\n",
      "1875/1875 [==============================] - 4s 2ms/step - loss: 0.1812 - accuracy: 0.9311\n",
      "Epoch 19/100\n",
      "1875/1875 [==============================] - 4s 2ms/step - loss: 0.1775 - accuracy: 0.9332\n",
      "Epoch 20/100\n",
      "1875/1875 [==============================] - 4s 2ms/step - loss: 0.1749 - accuracy: 0.9349\n",
      "Epoch 21/100\n",
      "1875/1875 [==============================] - 5s 2ms/step - loss: 0.1665 - accuracy: 0.9356\n",
      "Epoch 22/100\n",
      "1875/1875 [==============================] - 4s 2ms/step - loss: 0.1644 - accuracy: 0.9380\n",
      "Epoch 23/100\n",
      "1875/1875 [==============================] - 4s 2ms/step - loss: 0.1609 - accuracy: 0.9387\n",
      "Epoch 24/100\n",
      "1875/1875 [==============================] - 4s 2ms/step - loss: 0.1556 - accuracy: 0.9412\n",
      "Epoch 25/100\n",
      "1875/1875 [==============================] - 5s 2ms/step - loss: 0.1523 - accuracy: 0.9418\n",
      "Epoch 26/100\n",
      "1875/1875 [==============================] - 5s 3ms/step - loss: 0.1517 - accuracy: 0.9419\n",
      "Epoch 27/100\n",
      "1875/1875 [==============================] - 4s 2ms/step - loss: 0.1458 - accuracy: 0.9456\n",
      "Epoch 28/100\n",
      "1875/1875 [==============================] - 4s 2ms/step - loss: 0.1420 - accuracy: 0.9464\n",
      "Epoch 29/100\n",
      "1875/1875 [==============================] - 4s 2ms/step - loss: 0.1403 - accuracy: 0.9455\n",
      "Epoch 30/100\n",
      "1875/1875 [==============================] - 5s 2ms/step - loss: 0.1352 - accuracy: 0.9477\n",
      "Epoch 31/100\n",
      "1875/1875 [==============================] - 5s 2ms/step - loss: 0.1317 - accuracy: 0.9492\n",
      "Epoch 32/100\n",
      "1866/1875 [============================>.] - ETA: 0s - loss: 0.1306 - accuracy: 0.9505Se alcanzó el máximo de precisión y, por lo tanto, se canceló el proceso de entrenamiento.\n",
      "1875/1875 [==============================] - 5s 2ms/step - loss: 0.1309 - accuracy: 0.9504\n"
     ]
    }
   ],
   "source": [
    "# El entrenamiento debería cortarse en aproximadamente 35 epochs\n",
    "history, model = train_fashion_mnist()"
   ]
  },
  {
   "cell_type": "markdown",
   "id": "e8ec3d74",
   "metadata": {},
   "source": [
    "Hay que tener en cuenta que en el modelo creado, al no haber aplicado la función softmax aún, las salidas no son probabilidades, es decir, son valores que van de [-inf, +inf]. \n",
    "\n",
    "Veamos a continuación, los valores de salida para el primer ejemplo y además, observemos cuales son los valores maximos y minimos de todas las salidas para confirmar que no son probabilidades."
   ]
  },
  {
   "cell_type": "code",
   "execution_count": null,
   "id": "6aede106",
   "metadata": {},
   "outputs": [],
   "source": [
    "import numpy as np\n",
    "\n",
    "prediction = model.predict(x_train)\n",
    "\n",
    "display(f\"Valores de Salida para el primer ejemplo:\\n {prediction[0]}\")\n",
    "display()\n",
    "display(\"Valor máximo\", np.max(prediction), \"- Valor mínimo\", np.min(prediction))"
   ]
  },
  {
   "cell_type": "markdown",
   "id": "4eda7ba0",
   "metadata": {},
   "source": [
    "Como puede verse, las predicciones de salida **no son probabilidades**. \n",
    "\n",
    "Si la salida deseada deben ser probabilidades, la salida del modelo debe ser procesada a través de una operación Softmax."
   ]
  },
  {
   "cell_type": "code",
   "execution_count": null,
   "id": "dbaeb28b",
   "metadata": {},
   "outputs": [],
   "source": [
    "logit = model(x_train)\n",
    "f_x = softmax(logit)\n",
    "\n",
    "display(f\"Valores de Salida para el primer ejemplo:\\n {f_x[0]}\")\n",
    "display()\n",
    "display(\"Valor máximo\", np.max(f_x), \"- Valor mínimo\", np.min(f_x))"
   ]
  },
  {
   "cell_type": "markdown",
   "id": "3096fec4",
   "metadata": {},
   "source": [
    "Como se observa, los valores de salida se encuentran en el rango [0,1]. Si sumamos las probabilidades para un ejemplo debería darnos como resultado 1.0. (Se puede modificar el indice y probar que efectivamente para cualquier ejemplo el resultado siempre es 1.0)\n"
   ]
  },
  {
   "cell_type": "code",
   "execution_count": null,
   "id": "d7a11616",
   "metadata": {},
   "outputs": [],
   "source": [
    "sum(f_x[0]).numpy()"
   ]
  },
  {
   "cell_type": "markdown",
   "id": "0baf2cb0",
   "metadata": {},
   "source": [
    "### ¿Cómo obtener las categorías estimadas?\n",
    "Para obtener que categoría que se estimó con el modelo para un ejemplo dado se debe seleccionar la categoría más probable. \n",
    "\n",
    "Para ello, es posible encontrar el índice de la salida con mayor probabilidad utilizando np.argmax(). \n",
    "\n",
    "A continuación se muestran las categorías estimadas y las reales para los 10 primeros ejemplos."
   ]
  },
  {
   "cell_type": "code",
   "execution_count": null,
   "id": "cc980ad7",
   "metadata": {},
   "outputs": [],
   "source": [
    "for i in range(10):\n",
    "    display()\n",
    "    display(f\"{f_x[i]}\\nCategoría Estimada: {np.argmax(f_x[i])}\\nCategoría Real: {y_train[i]}\\n\")"
   ]
  }
 ],
 "metadata": {
  "kernelspec": {
   "display_name": "Python (tf_env)",
   "language": "python",
   "name": "tf_env"
  },
  "language_info": {
   "codemirror_mode": {
    "name": "ipython",
    "version": 3
   },
   "file_extension": ".py",
   "mimetype": "text/x-python",
   "name": "python",
   "nbconvert_exporter": "python",
   "pygments_lexer": "ipython3",
   "version": "3.8.18"
  }
 },
 "nbformat": 4,
 "nbformat_minor": 5
}
